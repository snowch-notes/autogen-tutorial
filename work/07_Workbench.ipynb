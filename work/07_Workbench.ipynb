{
 "cells": [
  {
   "cell_type": "markdown",
   "id": "autogen-with-mcp-workbench-tutorial",
   "metadata": {},
   "source": [
    "# AutoGen with MCP Workbench Tutorial\n",
    "\n",
    "This notebook follows on from the **MCP Echo Server Tutorial** and shows how to use the `McpWorkbench` class to connect to an MCP server, list its tools, call them dynamically, override tool names/descriptions, and integrate directly into an AutoGen `AssistantAgent`.\n",
    "\n",
    "## What is `McpWorkbench`?\n",
    "\n",
    "The `McpWorkbench` is a higher-level interface for working with MCP servers. Instead of manually wrapping each MCP tool (like with `StreamableHttpMcpToolAdapter`), you connect to the entire server. The workbench can:\n",
    "\n",
    "- **List available tools**\n",
    "- **Call tools directly**\n",
    "- **Override tool names and descriptions**\n",
    "- **Integrate all tools into an agent automatically**\n",
    "\n",
    "It acts as a centralized hub for managing and exposing a collection of related tools from an MCP server to your agents.\n",
    "\n",
    "| Feature | MCP Tool Adapter | MCP Workbench |\n",
    "| :--- | :--- | :--- |\n",
    "| Connects to a single tool | ✅ | ❌ (connects to all tools) |\n",
    "| Lists available tools | ❌ | ✅ |\n",
    "| Calls tools directly | ✅ (wrapped only) | ✅ (any tool) |\n",
    "| Supports tool overrides | ❌ | ✅ |\n",
    "| Agent integration | Manual per tool | Automatic for all tools |"
   ]
  },
  {
   "cell_type": "markdown",
   "id": "prerequisites",
   "metadata": {},
   "source": [
    "## Prerequisites\n",
    "Make sure you have the `mcp_echo_tool.py` server running from the previous tutorial."
   ]
  },
  {
   "cell_type": "code",
   "execution_count": 1,
   "id": "3046b02c-a793-469a-b693-8323c60ee022",
   "metadata": {},
   "outputs": [],
   "source": [
    "!pip install --quiet -U \"autogen-agentchat>=0.7\" \"autogen-ext[openai,mcp]>=0.7\" \"mcp>=1.0.0\"\n",
    "\n",
    "# IMPORTANT: See: https://github.com/microsoft/autogen/issues/6906\n",
    "!pip install --quiet --force-reinstall \"openai==1.80\""
   ]
  },
  {
   "cell_type": "markdown",
   "id": "b28c693f-795f-4a17-9b9d-9ec83a98d3de",
   "metadata": {},
   "source": [
    "> **⚠️ IMPORTANT:**  \n",
    "> If you just ran the `!pip install --quiet --force-reinstall \"openai==1.80\"` command,  \n",
    "> you **must** restart the Jupyter kernel before continuing.  \n",
    "> This ensures the newly installed `openai` package is loaded into memory  \n",
    "> and avoids mixed-version issues that can cause runtime errors.  \n",
    ">  \n",
    "> **In Jupyter:** go to **Kernel → Restart & Clear Output**, then rerun the notebook from the top."
   ]
  },
  {
   "cell_type": "markdown",
   "id": "connect-to-mcp-echo-server",
   "metadata": {},
   "source": [
    "## 1. Connect to the MCP Echo Server with `McpWorkbench`\n",
    "\n",
    "This example lists available tools and calls the first one."
   ]
  },
  {
   "cell_type": "code",
   "execution_count": 2,
   "id": "basic-workbench-demo",
   "metadata": {},
   "outputs": [
    {
     "name": "stdout",
     "output_type": "stream",
     "text": [
      "Available tools: [{'name': 'echo', 'description': 'Echo the input text', 'parameters': {'type': 'object', 'properties': {'text': {'title': 'Text', 'type': 'string'}}, 'required': ['text'], 'additionalProperties': False}}]\n",
      "Calling tool: echo\n",
      "Result: type='ToolResult' name='echo' result=[TextResultContent(type='TextResultContent', content='Hello from Workbench')] is_error=False\n"
     ]
    }
   ],
   "source": [
    "import asyncio\n",
    "from autogen_ext.tools.mcp import McpWorkbench, StreamableHttpServerParams\n",
    "\n",
    "async def basic_workbench_demo():\n",
    "    params = StreamableHttpServerParams(url=\"http://127.0.0.1:8000/mcp\")\n",
    "    \n",
    "    async with McpWorkbench(server_params=params) as workbench:\n",
    "        tools = await workbench.list_tools()\n",
    "        print(\"Available tools:\", tools)\n",
    "\n",
    "        if tools:\n",
    "            name = tools[0][\"name\"]\n",
    "            print(f\"Calling tool: {name}\")\n",
    "            result = await workbench.call_tool(name, {\"text\": \"Hello from Workbench\"})\n",
    "            print(\"Result:\", result)\n",
    "\n",
    "await basic_workbench_demo()"
   ]
  },
  {
   "cell_type": "markdown",
   "id": "using-tool-overrides",
   "metadata": {},
   "source": [
    "## 2. Using Tool Overrides\n",
    "\n",
    "We can change how tools appear to the agent without modifying the MCP server."
   ]
  },
  {
   "cell_type": "code",
   "execution_count": 3,
   "id": "workbench-with-overrides",
   "metadata": {},
   "outputs": [
    {
     "name": "stdout",
     "output_type": "stream",
     "text": [
      "Overridden tools: [{'name': 'repeat_message', 'description': 'Repeat back a message you send', 'parameters': {'type': 'object', 'properties': {'text': {'title': 'Text', 'type': 'string'}}, 'required': ['text'], 'additionalProperties': False}}]\n",
      "Result: type='ToolResult' name='repeat_message' result=[TextResultContent(type='TextResultContent', content='Overridden tool call works!')] is_error=False\n"
     ]
    }
   ],
   "source": [
    "from autogen_core.tools import ToolOverride\n",
    "\n",
    "async def workbench_with_overrides():\n",
    "    overrides = {\n",
    "        \"echo\": ToolOverride(\n",
    "            name=\"repeat_message\",\n",
    "            description=\"Repeat back a message you send\"\n",
    "        )\n",
    "    }\n",
    "    params = StreamableHttpServerParams(url=\"http://127.0.0.1:8000/mcp\")\n",
    "\n",
    "    async with McpWorkbench(server_params=params, tool_overrides=overrides) as workbench:\n",
    "        tools = await workbench.list_tools()\n",
    "        print(\"Overridden tools:\", tools)\n",
    "        result = await workbench.call_tool(\"repeat_message\", {\"text\": \"Overridden tool call works!\"})\n",
    "        print(\"Result:\", result)\n",
    "\n",
    "await workbench_with_overrides()"
   ]
  },
  {
   "cell_type": "markdown",
   "id": "connecting-agent-to-workbench",
   "metadata": {},
   "source": [
    "## 3. Connecting an Agent to the Workbench\n",
    "\n",
    "When you pass the `McpWorkbench` to an `AssistantAgent`, it can automatically discover and use all tools from the MCP server."
   ]
  },
  {
   "cell_type": "code",
   "execution_count": 4,
   "id": "agent-with-workbench",
   "metadata": {},
   "outputs": [
    {
     "name": "stdout",
     "output_type": "stream",
     "text": [
      "---------- TextMessage (user) ----------\n",
      "Echo 'This came via the workbench!'\n",
      "---------- ToolCallRequestEvent (echo_agent) ----------\n",
      "[FunctionCall(id='call_cNcN2lWh7QadY65hHTJE3b8o', arguments='{\"text\":\"This came via the workbench!\"}', name='echo')]\n",
      "---------- ToolCallExecutionEvent (echo_agent) ----------\n",
      "[FunctionExecutionResult(content='This came via the workbench!', name='echo', call_id='call_cNcN2lWh7QadY65hHTJE3b8o', is_error=False)]\n",
      "---------- ToolCallSummaryMessage (echo_agent) ----------\n",
      "This came via the workbench!\n"
     ]
    }
   ],
   "source": [
    "from autogen_agentchat.agents import AssistantAgent\n",
    "from autogen_ext.models.openai import OpenAIChatCompletionClient\n",
    "from autogen_agentchat.ui import Console\n",
    "\n",
    "async def agent_with_workbench():\n",
    "    model_client = OpenAIChatCompletionClient(model=\"gpt-4o-mini\")\n",
    "    params = StreamableHttpServerParams(url=\"http://127.0.0.1:8000/mcp\")\n",
    "\n",
    "    async with McpWorkbench(server_params=params) as mcp:\n",
    "        agent = AssistantAgent(\n",
    "            \"echo_agent\",\n",
    "            model_client=model_client,\n",
    "            workbench=mcp\n",
    "        )\n",
    "        await Console(agent.run_stream(task=\"Echo 'This came via the workbench!'\"))\n",
    "\n",
    "    await model_client.close()\n",
    "\n",
    "await agent_with_workbench()"
   ]
  },
  {
   "cell_type": "markdown",
   "id": "summary",
   "metadata": {},
   "source": [
    "## Summary\n",
    "\n",
    "In this notebook you learned how to:\n",
    "\n",
    "- Connect to an MCP server using `McpWorkbench`\n",
    "- List and call tools dynamically\n",
    "- Override tool names and descriptions\n",
    "- Integrate the workbench directly into an AutoGen agent"
   ]
  },
  {
   "cell_type": "markdown",
   "id": "next-steps",
   "metadata": {},
   "source": [
    "## Next Steps\n",
    "\n",
    "Next, try connecting the workbench to other MCP servers like:\n",
    "\n",
    "- **mcp-server-fetch** for fetching web content\n",
    "- **GitHub MCP Server** for repository queries\n",
    "- **Playwright MCP Server** for web automation\n",
    "\n",
    "See the [api docs](https://microsoft.github.io/autogen/stable/reference/python/autogen_ext.tools.mcp.html#autogen_ext.tools.mcp.McpWorkbench) for the above examples.\n",
    "\n",
    "📚 Resources:\n",
    "- [MCP Documentation](https://modelcontextprotocol.io)\n",
    "- [AutoGen Documentation](https://microsoft.github.io/autogen)\n",
    "- [Python MCP SDK](https://github.com/modelcontextprotocol/python-sdk)"
   ]
  }
 ],
 "metadata": {
  "kernelspec": {
   "display_name": "Python 3 (ipykernel)",
   "language": "python",
   "name": "python3"
  },
  "language_info": {
   "codemirror_mode": {
    "name": "ipython",
    "version": 3
   },
   "file_extension": ".py",
   "mimetype": "text/x-python",
   "name": "python",
   "nbconvert_exporter": "python",
   "pygments_lexer": "ipython3",
   "version": "3.12.9"
  }
 },
 "nbformat": 4,
 "nbformat_minor": 5
}
