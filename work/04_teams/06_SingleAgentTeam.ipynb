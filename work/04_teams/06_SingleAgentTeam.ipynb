{
 "cells": [
  {
   "cell_type": "markdown",
   "metadata": {},
   "source": [
    "# Single-Agent Team Example\n",
    "\n",
    "This notebook demonstrates how to run a single agent in a team configuration using AutoGen. This approach allows the agent to perform multiple iterations of tool calls until a termination condition is met.\n",
    "\n",
    "## Example Scenario\n",
    "\n",
    "The agent will increment a number from a starting value until it reaches a target value, using a tool to perform the increment.\n"
   ]
  },
  {
   "cell_type": "code",
   "execution_count": null,
   "metadata": {},
   "outputs": [],
   "source": [
    "import asyncio\n",
    "from autogen_agentchat.agents import AssistantAgent\n",
    "from autogen_agentchat.conditions import TextMessageTermination\n",
    "from autogen_agentchat.teams import RoundRobinGroupChat\n",
    "from autogen_ext.models.openai import OpenAIChatCompletionClient\n",
    "\n",
    "# Initialize the model client\n",
    "model_client = OpenAIChatCompletionClient(\n",
    "    model=\"gpt-4o\",\n",
    "    # api_key=\"sk-...\",  # Optional if OPENAI_API_KEY is set\n",
    "    parallel_tool_calls=False,  # Disable parallel tool calls for this example\n",
    ")\n",
    "\n",
    "# Define a simple increment tool\n",
    "def increment_tool(number: int) -> int:\n",
    "    \"\"\"Increment the input number by 1.\"\"\"\n",
    "    return number + 1\n",
    "\n",
    "# Create the single agent with the tool\n",
    "single_agent = AssistantAgent(\n",
    "    \"incrementer\",\n",
    "    model_client=model_client,\n",
    "    tools=[increment_tool],\n",
    "    system_message=\"You are an assistant that increments numbers using the provided tool.\",\n",
    ")\n",
    "\n",
    "# Define termination condition\n",
    "termination_condition = TextMessageTermination(\"incrementer\")\n",
    "\n",
    "# Create a single-agent team\n",
    "team = RoundRobinGroupChat(\n",
    "    [single_agent],\n",
    "    termination_condition=termination_condition,\n",
    ")\n",
    "\n",
    "# Example usage (to be run in an async context):\n",
    "# async for message in team.run_stream(task=\"Increment the number 3 to 7.\"):\n",
    "#     print(message)\n",
    "\n",
    "# await model_client.close()\n"
   ]
  }
 ],
 "metadata": {
  "kernelspec": {
   "display_name": "Python 3",
   "language": "python",
   "name": "python3"
  },
  "language_info": {
   "name": "python",
   "version": "3.10"
  }
 },
 "nbformat": 4,
 "nbformat_minor": 5
}
