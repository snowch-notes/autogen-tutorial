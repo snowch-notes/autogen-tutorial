{
 "cells": [
  {
   "cell_type": "markdown",
   "metadata": {},
   "source": [
    "# Controlling a Multi-Agent Team\n",
    "\n",
    "This notebook covers how to control the lifecycle of a multi-agent team, including resetting, stopping, resuming, and aborting the team.\n",
    "\n",
    "## Resetting the Team\n",
    "\n",
    "Resetting clears the team's state and prepares it for a new task.\n"
   ]
  },
  {
   "cell_type": "code",
   "execution_count": null,
   "metadata": {},
   "outputs": [],
   "source": [
    "import asyncio\n",
    "from autogen_agentchat.conditions import ExternalTermination\n",
    "from work.04_teams.02_CreateTeam import team\n",
    "\n",
    "async def reset_team():\n",
    "    await team.reset()\n",
    "    print(\"Team has been reset.\")\n",
    "\n",
    "# To execute, run in an async context:\n",
    "# asyncio.run(reset_team())\n"
   ]
  },
  {
   "cell_type": "markdown",
   "metadata": {},
   "source": [
    "## Stopping the Team Externally\n",
    "\n",
    "You can stop the team from outside by using an external termination condition.\n"
   ]
  },
  {
   "cell_type": "code",
   "execution_count": null,
   "metadata": {},
   "outputs": [],
   "source": [
    "async def stop_team_externally():\n",
    "    external_termination = ExternalTermination()\n",
    "    team.termination_condition = external_termination\n",
    "\n",
    "    run_task = asyncio.create_task(team.run(task=\"Write a short story about teamwork.\"))\n",
    "    await asyncio.sleep(0.2)  # Let the team run briefly\n",
    "    external_termination.set()  # Signal the team to stop\n",
    "    await run_task\n",
    "    print(\"Team stopped externally.\")\n",
    "\n",
    "# To execute, run in an async context:\n",
    "# asyncio.run(stop_team_externally())\n"
   ]
  },
  {
   "cell_type": "markdown",
   "metadata": {},
   "source": [
    "## Resuming the Team\n",
    "\n",
    "Teams maintain state and can resume from where they left off.\n"
   ]
  },
  {
   "cell_type": "code",
   "execution_count": null,
   "metadata": {},
   "outputs": [],
   "source": [
    "async def resume_team():\n",
    "    await team.reset()  # Reset first for demonstration\n",
    "    await team.run(task=\"Start a brainstorming session on renewable energy.\")\n",
    "    print(\"Initial run complete.\")\n",
    "\n",
    "    # Resume without a new task\n",
    "    await team.run()\n",
    "    print(\"Team resumed and continued.\")\n",
    "\n",
    "# To execute, run in an async context:\n",
    "# asyncio.run(resume_team())\n"
   ]
  },
  {
   "cell_type": "markdown",
   "metadata": {},
   "source": [
    "## Aborting the Team\n",
    "\n",
    "Aborting immediately stops the team and raises a cancellation exception.\n"
   ]
  },
  {
   "cell_type": "code",
   "execution_count": null,
   "metadata": {},
   "outputs": [],
   "source": [
    "from autogen_core import CancellationToken\n",
    "import asyncio\n",
    "\n",
    "async def abort_team():\n",
    "    cancellation_token = CancellationToken()\n",
    "    run_task = asyncio.create_task(\n",
    "        team.run(task=\"Generate a detailed report on climate change.\", cancellation_token=cancellation_token)\n",
    "    )\n",
    "    await asyncio.sleep(0.1)  # Let the team start\n",
    "    cancellation_token.cancel()  # Abort the team\n",
    "    try:\n",
    "        await run_task\n",
    "    except asyncio.CancelledError:\n",
    "        print(\"Team run was aborted.\")\n",
    "\n",
    "# To execute, run in an async context:\n",
    "# asyncio.run(abort_team())\n"
   ]
  }
 ],
 "metadata": {
  "kernelspec": {
   "display_name": "Python 3",
   "language": "python",
   "name": "python3"
  },
  "language_info": {
   "name": "python",
   "version": "3.10"
  }
 },
 "nbformat": 4,
 "nbformat_minor": 5
}
