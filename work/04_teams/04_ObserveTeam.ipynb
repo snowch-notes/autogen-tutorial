{
 "cells": [
  {
   "cell_type": "markdown",
   "metadata": {},
   "source": [
    "# Observing a Multi-Agent Team\n",
    "\n",
    "This notebook shows how to observe the messages produced by a multi-agent team in real-time by streaming the output.\n",
    "\n",
    "## Streaming Team Messages\n",
    "\n",
    "We will use the team from previous notebooks and stream its messages as it processes a task.\n",
    "\n",
    "This allows us to monitor the team's progress and understand its behavior.\n"
   ]
  },
  {
   "cell_type": "code",
   "execution_count": null,
   "metadata": {},
   "outputs": [],
   "source": [
    "import asyncio\n",
    "from autogen_agentchat.base import TaskResult\n",
    "from work.04_teams.02_CreateTeam import team\n",
    "\n",
    "async def stream_team_messages():\n",
    "    async for message in team.run_stream(task=\"Summarize recent advances in renewable energy technology.\"):\n",
    "        if isinstance(message, TaskResult):\n",
    "            print(f\"Team finished with stop reason: {message.stop_reason}\")\n",
    "        else:\n",
    "            print(f\"Message from {message.sender}: {message.text}\")\n",
    "\n",
    "# To execute, run in an async context:\n",
    "# asyncio.run(stream_team_messages())\n"
   ]
  }
 ],
 "metadata": {
  "kernelspec": {
   "display_name": "Python 3",
   "language": "python",
   "name": "python3"
  },
  "language_info": {
   "name": "python",
   "version": "3.10"
  }
 },
 "nbformat": 4,
 "nbformat_minor": 5
}
