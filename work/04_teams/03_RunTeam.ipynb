{
 "cells": [
  {
   "cell_type": "markdown",
   "metadata": {},
   "source": [
    "# Running a Multi-Agent Team\n",
    "\n",
    "This notebook demonstrates how to run a multi-agent team in AutoGen and handle the results.\n",
    "\n",
    "## Running the Team\n",
    "\n",
    "We will use the team created in the previous notebook and run it with a specific task. The team will continue running until the termination condition is met.\n",
    "\n",
    "## Example Task\n",
    "\n",
    "The team will be tasked with generating a brief overview of the impact of artificial intelligence on healthcare.\n"
   ]
  },
  {
   "cell_type": "code",
   "execution_count": null,
   "metadata": {},
   "outputs": [],
   "source": [
    "import asyncio\n",
    "from work.04_teams.02_CreateTeam import team\n",
    "\n",
    "async def run_team_task():\n",
    "    result = await team.run(task=\"Generate a brief overview of the impact of artificial intelligence on healthcare.\")\n",
    "    print(\"Team run completed. Result:\")\n",
    "    print(result)\n",
    "\n",
    "# To execute, run in an async context:\n",
    "# asyncio.run(run_team_task())\n"
   ]
  }
 ],
 "metadata": {
  "kernelspec": {
   "display_name": "Python 3",
   "language": "python",
   "name": "python3"
  },
  "language_info": {
   "name": "python",
   "version": "3.10"
  }
 },
 "nbformat": 4,
 "nbformat_minor": 5
}
