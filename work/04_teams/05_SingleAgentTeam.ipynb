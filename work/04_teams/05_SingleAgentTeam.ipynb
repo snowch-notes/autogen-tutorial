{
 "cells": [
  {
   "cell_type": "markdown",
   "id": "129486a4",
   "metadata": {},
   "source": [
    "# Single-Agent Team Example\n",
    "\n",
    "This notebook demonstrates how to run a single agent in a team configuration using AutoGen. This approach allows the agent to perform multiple iterations of tool calls until a termination condition is met.\n",
    "\n",
    "## Example Scenario\n",
    "\n",
    "The agent will increment a number from a starting value until it reaches a target value, using a tool to perform the increment.\n"
   ]
  },
  {
   "cell_type": "code",
   "execution_count": 1,
   "id": "70b6e900-78ab-4db7-aa25-fbb5d745b868",
   "metadata": {},
   "outputs": [],
   "source": [
    "# Install dependencies\n",
    "!pip install --quiet -U \"autogen-agentchat>=0.7\" \"autogen-ext[openai,mcp]>=0.7\" \"mcp>=1.0.0\"\n",
    "\n",
    "# IMPORTANT: See: https://github.com/microsoft/autogen/issues/6906\n",
    "!pip install --quiet --force-reinstall \"openai==1.80\""
   ]
  },
  {
   "cell_type": "markdown",
   "id": "ab519068-2042-4f62-bd84-e1c7eccb00a0",
   "metadata": {},
   "source": [
    "> **⚠️ IMPORTANT:**  \n",
    "> If you just ran the `!pip install --quiet --force-reinstall \"openai==1.80\"` command,  \n",
    "> you **must** restart the Jupyter kernel before continuing.  \n",
    "> This ensures the newly installed `openai` package is loaded into memory  \n",
    "> and avoids mixed-version issues that can cause runtime errors.  \n",
    ">  \n",
    "> **In Jupyter:** go to **Kernel → Restart & Clear Output**, then rerun the notebook from the top."
   ]
  },
  {
   "cell_type": "code",
   "execution_count": 2,
   "id": "e9c6d7f8",
   "metadata": {},
   "outputs": [
    {
     "name": "stdout",
     "output_type": "stream",
     "text": [
      "id='1f0c1da9-e1a5-43eb-9cf1-3da1c1399f56' source='user' models_usage=None metadata={} created_at=datetime.datetime(2025, 8, 9, 6, 30, 34, 181011, tzinfo=datetime.timezone.utc) content='Increment the number 3 to 7.' type='TextMessage'\n",
      "id='2fed573c-8d32-4105-a1ae-c5d4755f6136' source='incrementer' models_usage=RequestUsage(prompt_tokens=73, completion_tokens=14) metadata={} created_at=datetime.datetime(2025, 8, 9, 6, 30, 34, 824605, tzinfo=datetime.timezone.utc) content=[FunctionCall(id='call_S4qVnfv6CAVzX3nLzImQL0s8', arguments='{\"number\":3}', name='increment_tool')] type='ToolCallRequestEvent'\n",
      "id='fb660b6d-2834-411e-bf3b-fb44343c0897' source='incrementer' models_usage=None metadata={} created_at=datetime.datetime(2025, 8, 9, 6, 30, 34, 829450, tzinfo=datetime.timezone.utc) content=[FunctionExecutionResult(content='4', name='increment_tool', call_id='call_S4qVnfv6CAVzX3nLzImQL0s8', is_error=False)] type='ToolCallExecutionEvent'\n",
      "id='09a78a99-59b7-465a-bf1c-097c80f37032' source='incrementer' models_usage=None metadata={} created_at=datetime.datetime(2025, 8, 9, 6, 30, 34, 829949, tzinfo=datetime.timezone.utc) content='4' type='ToolCallSummaryMessage' tool_calls=[FunctionCall(id='call_S4qVnfv6CAVzX3nLzImQL0s8', arguments='{\"number\":3}', name='increment_tool')] results=[FunctionExecutionResult(content='4', name='increment_tool', call_id='call_S4qVnfv6CAVzX3nLzImQL0s8', is_error=False)]\n",
      "id='6ac6ff74-a40c-45c0-84e3-93da6612a5a7' source='incrementer' models_usage=RequestUsage(prompt_tokens=96, completion_tokens=14) metadata={} created_at=datetime.datetime(2025, 8, 9, 6, 30, 35, 420983, tzinfo=datetime.timezone.utc) content=[FunctionCall(id='call_UJA23b8iqporUhTh2XPYJSRJ', arguments='{\"number\":4}', name='increment_tool')] type='ToolCallRequestEvent'\n",
      "id='342d7fde-93c8-411a-a7ba-8116466b31df' source='incrementer' models_usage=None metadata={} created_at=datetime.datetime(2025, 8, 9, 6, 30, 35, 424555, tzinfo=datetime.timezone.utc) content=[FunctionExecutionResult(content='5', name='increment_tool', call_id='call_UJA23b8iqporUhTh2XPYJSRJ', is_error=False)] type='ToolCallExecutionEvent'\n",
      "id='b18ab310-1d61-43e5-9010-4dd5f8b0fc50' source='incrementer' models_usage=None metadata={} created_at=datetime.datetime(2025, 8, 9, 6, 30, 35, 424935, tzinfo=datetime.timezone.utc) content='5' type='ToolCallSummaryMessage' tool_calls=[FunctionCall(id='call_UJA23b8iqporUhTh2XPYJSRJ', arguments='{\"number\":4}', name='increment_tool')] results=[FunctionExecutionResult(content='5', name='increment_tool', call_id='call_UJA23b8iqporUhTh2XPYJSRJ', is_error=False)]\n",
      "id='065f5b63-5dc2-49c8-af41-22262a888890' source='incrementer' models_usage=RequestUsage(prompt_tokens=119, completion_tokens=14) metadata={} created_at=datetime.datetime(2025, 8, 9, 6, 30, 36, 122564, tzinfo=datetime.timezone.utc) content=[FunctionCall(id='call_YuHow1jy0BaFmFvyHa0qVxEE', arguments='{\"number\":5}', name='increment_tool')] type='ToolCallRequestEvent'\n",
      "id='b2d7a725-6fd5-4984-b03b-f5325c38bfdf' source='incrementer' models_usage=None metadata={} created_at=datetime.datetime(2025, 8, 9, 6, 30, 36, 125053, tzinfo=datetime.timezone.utc) content=[FunctionExecutionResult(content='6', name='increment_tool', call_id='call_YuHow1jy0BaFmFvyHa0qVxEE', is_error=False)] type='ToolCallExecutionEvent'\n",
      "id='0e5961d7-da4d-4155-aa41-a99b1eb607ac' source='incrementer' models_usage=None metadata={} created_at=datetime.datetime(2025, 8, 9, 6, 30, 36, 125280, tzinfo=datetime.timezone.utc) content='6' type='ToolCallSummaryMessage' tool_calls=[FunctionCall(id='call_YuHow1jy0BaFmFvyHa0qVxEE', arguments='{\"number\":5}', name='increment_tool')] results=[FunctionExecutionResult(content='6', name='increment_tool', call_id='call_YuHow1jy0BaFmFvyHa0qVxEE', is_error=False)]\n",
      "id='a78af426-3e02-4ef8-bebb-86f4bdc5e058' source='incrementer' models_usage=RequestUsage(prompt_tokens=142, completion_tokens=14) metadata={} created_at=datetime.datetime(2025, 8, 9, 6, 30, 36, 735215, tzinfo=datetime.timezone.utc) content=[FunctionCall(id='call_48IqrdMZCBSQxv0HD4Q4HPQG', arguments='{\"number\":6}', name='increment_tool')] type='ToolCallRequestEvent'\n",
      "id='990c5a3f-d8e1-4e7b-8fa1-2d5f762b58f8' source='incrementer' models_usage=None metadata={} created_at=datetime.datetime(2025, 8, 9, 6, 30, 36, 738144, tzinfo=datetime.timezone.utc) content=[FunctionExecutionResult(content='7', name='increment_tool', call_id='call_48IqrdMZCBSQxv0HD4Q4HPQG', is_error=False)] type='ToolCallExecutionEvent'\n",
      "id='50578c87-45ce-4362-87f3-db0c7dd2c232' source='incrementer' models_usage=None metadata={} created_at=datetime.datetime(2025, 8, 9, 6, 30, 36, 738460, tzinfo=datetime.timezone.utc) content='7' type='ToolCallSummaryMessage' tool_calls=[FunctionCall(id='call_48IqrdMZCBSQxv0HD4Q4HPQG', arguments='{\"number\":6}', name='increment_tool')] results=[FunctionExecutionResult(content='7', name='increment_tool', call_id='call_48IqrdMZCBSQxv0HD4Q4HPQG', is_error=False)]\n",
      "id='ba6589fd-61c3-42f2-881b-e5d8fad86ba6' source='incrementer' models_usage=RequestUsage(prompt_tokens=165, completion_tokens=13) metadata={} created_at=datetime.datetime(2025, 8, 9, 6, 30, 37, 348666, tzinfo=datetime.timezone.utc) content='The number 3 has been incremented to 7.' type='TextMessage'\n",
      "messages=[TextMessage(id='1f0c1da9-e1a5-43eb-9cf1-3da1c1399f56', source='user', models_usage=None, metadata={}, created_at=datetime.datetime(2025, 8, 9, 6, 30, 34, 181011, tzinfo=datetime.timezone.utc), content='Increment the number 3 to 7.', type='TextMessage'), ToolCallRequestEvent(id='2fed573c-8d32-4105-a1ae-c5d4755f6136', source='incrementer', models_usage=RequestUsage(prompt_tokens=73, completion_tokens=14), metadata={}, created_at=datetime.datetime(2025, 8, 9, 6, 30, 34, 824605, tzinfo=datetime.timezone.utc), content=[FunctionCall(id='call_S4qVnfv6CAVzX3nLzImQL0s8', arguments='{\"number\":3}', name='increment_tool')], type='ToolCallRequestEvent'), ToolCallExecutionEvent(id='fb660b6d-2834-411e-bf3b-fb44343c0897', source='incrementer', models_usage=None, metadata={}, created_at=datetime.datetime(2025, 8, 9, 6, 30, 34, 829450, tzinfo=datetime.timezone.utc), content=[FunctionExecutionResult(content='4', name='increment_tool', call_id='call_S4qVnfv6CAVzX3nLzImQL0s8', is_error=False)], type='ToolCallExecutionEvent'), ToolCallSummaryMessage(id='09a78a99-59b7-465a-bf1c-097c80f37032', source='incrementer', models_usage=None, metadata={}, created_at=datetime.datetime(2025, 8, 9, 6, 30, 34, 829949, tzinfo=datetime.timezone.utc), content='4', type='ToolCallSummaryMessage', tool_calls=[FunctionCall(id='call_S4qVnfv6CAVzX3nLzImQL0s8', arguments='{\"number\":3}', name='increment_tool')], results=[FunctionExecutionResult(content='4', name='increment_tool', call_id='call_S4qVnfv6CAVzX3nLzImQL0s8', is_error=False)]), ToolCallRequestEvent(id='6ac6ff74-a40c-45c0-84e3-93da6612a5a7', source='incrementer', models_usage=RequestUsage(prompt_tokens=96, completion_tokens=14), metadata={}, created_at=datetime.datetime(2025, 8, 9, 6, 30, 35, 420983, tzinfo=datetime.timezone.utc), content=[FunctionCall(id='call_UJA23b8iqporUhTh2XPYJSRJ', arguments='{\"number\":4}', name='increment_tool')], type='ToolCallRequestEvent'), ToolCallExecutionEvent(id='342d7fde-93c8-411a-a7ba-8116466b31df', source='incrementer', models_usage=None, metadata={}, created_at=datetime.datetime(2025, 8, 9, 6, 30, 35, 424555, tzinfo=datetime.timezone.utc), content=[FunctionExecutionResult(content='5', name='increment_tool', call_id='call_UJA23b8iqporUhTh2XPYJSRJ', is_error=False)], type='ToolCallExecutionEvent'), ToolCallSummaryMessage(id='b18ab310-1d61-43e5-9010-4dd5f8b0fc50', source='incrementer', models_usage=None, metadata={}, created_at=datetime.datetime(2025, 8, 9, 6, 30, 35, 424935, tzinfo=datetime.timezone.utc), content='5', type='ToolCallSummaryMessage', tool_calls=[FunctionCall(id='call_UJA23b8iqporUhTh2XPYJSRJ', arguments='{\"number\":4}', name='increment_tool')], results=[FunctionExecutionResult(content='5', name='increment_tool', call_id='call_UJA23b8iqporUhTh2XPYJSRJ', is_error=False)]), ToolCallRequestEvent(id='065f5b63-5dc2-49c8-af41-22262a888890', source='incrementer', models_usage=RequestUsage(prompt_tokens=119, completion_tokens=14), metadata={}, created_at=datetime.datetime(2025, 8, 9, 6, 30, 36, 122564, tzinfo=datetime.timezone.utc), content=[FunctionCall(id='call_YuHow1jy0BaFmFvyHa0qVxEE', arguments='{\"number\":5}', name='increment_tool')], type='ToolCallRequestEvent'), ToolCallExecutionEvent(id='b2d7a725-6fd5-4984-b03b-f5325c38bfdf', source='incrementer', models_usage=None, metadata={}, created_at=datetime.datetime(2025, 8, 9, 6, 30, 36, 125053, tzinfo=datetime.timezone.utc), content=[FunctionExecutionResult(content='6', name='increment_tool', call_id='call_YuHow1jy0BaFmFvyHa0qVxEE', is_error=False)], type='ToolCallExecutionEvent'), ToolCallSummaryMessage(id='0e5961d7-da4d-4155-aa41-a99b1eb607ac', source='incrementer', models_usage=None, metadata={}, created_at=datetime.datetime(2025, 8, 9, 6, 30, 36, 125280, tzinfo=datetime.timezone.utc), content='6', type='ToolCallSummaryMessage', tool_calls=[FunctionCall(id='call_YuHow1jy0BaFmFvyHa0qVxEE', arguments='{\"number\":5}', name='increment_tool')], results=[FunctionExecutionResult(content='6', name='increment_tool', call_id='call_YuHow1jy0BaFmFvyHa0qVxEE', is_error=False)]), ToolCallRequestEvent(id='a78af426-3e02-4ef8-bebb-86f4bdc5e058', source='incrementer', models_usage=RequestUsage(prompt_tokens=142, completion_tokens=14), metadata={}, created_at=datetime.datetime(2025, 8, 9, 6, 30, 36, 735215, tzinfo=datetime.timezone.utc), content=[FunctionCall(id='call_48IqrdMZCBSQxv0HD4Q4HPQG', arguments='{\"number\":6}', name='increment_tool')], type='ToolCallRequestEvent'), ToolCallExecutionEvent(id='990c5a3f-d8e1-4e7b-8fa1-2d5f762b58f8', source='incrementer', models_usage=None, metadata={}, created_at=datetime.datetime(2025, 8, 9, 6, 30, 36, 738144, tzinfo=datetime.timezone.utc), content=[FunctionExecutionResult(content='7', name='increment_tool', call_id='call_48IqrdMZCBSQxv0HD4Q4HPQG', is_error=False)], type='ToolCallExecutionEvent'), ToolCallSummaryMessage(id='50578c87-45ce-4362-87f3-db0c7dd2c232', source='incrementer', models_usage=None, metadata={}, created_at=datetime.datetime(2025, 8, 9, 6, 30, 36, 738460, tzinfo=datetime.timezone.utc), content='7', type='ToolCallSummaryMessage', tool_calls=[FunctionCall(id='call_48IqrdMZCBSQxv0HD4Q4HPQG', arguments='{\"number\":6}', name='increment_tool')], results=[FunctionExecutionResult(content='7', name='increment_tool', call_id='call_48IqrdMZCBSQxv0HD4Q4HPQG', is_error=False)]), TextMessage(id='ba6589fd-61c3-42f2-881b-e5d8fad86ba6', source='incrementer', models_usage=RequestUsage(prompt_tokens=165, completion_tokens=13), metadata={}, created_at=datetime.datetime(2025, 8, 9, 6, 30, 37, 348666, tzinfo=datetime.timezone.utc), content='The number 3 has been incremented to 7.', type='TextMessage')] stop_reason=\"Text message received from 'incrementer'\"\n"
     ]
    }
   ],
   "source": [
    "import asyncio\n",
    "from autogen_agentchat.agents import AssistantAgent\n",
    "from autogen_agentchat.conditions import TextMessageTermination\n",
    "from autogen_agentchat.teams import RoundRobinGroupChat\n",
    "from autogen_ext.models.openai import OpenAIChatCompletionClient\n",
    "\n",
    "# Initialize the model client\n",
    "model_client = OpenAIChatCompletionClient(\n",
    "    model=\"gpt-4o\",\n",
    "    parallel_tool_calls=False,  # Disable parallel tool calls for this example\n",
    ")\n",
    "\n",
    "# Define a simple increment tool\n",
    "def increment_tool(number: int) -> int:\n",
    "    \"\"\"Increment the input number by 1.\"\"\"\n",
    "    return number + 1\n",
    "\n",
    "# Create the single agent with the tool\n",
    "single_agent = AssistantAgent(\n",
    "    \"incrementer\",\n",
    "    model_client=model_client,\n",
    "    tools=[increment_tool],\n",
    "    system_message=\"You are an assistant that increments numbers using the provided tool.\",\n",
    ")\n",
    "\n",
    "# Define termination condition\n",
    "termination_condition = TextMessageTermination(\"incrementer\")\n",
    "\n",
    "# Create a single-agent team\n",
    "team = RoundRobinGroupChat(\n",
    "    [single_agent],\n",
    "    termination_condition=termination_condition,\n",
    ")\n",
    "\n",
    "# Example usage (to be run in an async context):\n",
    "async for message in team.run_stream(task=\"Increment the number 3 to 7.\"):\n",
    "    print(message)\n",
    "\n",
    "await model_client.close()"
   ]
  },
  {
   "cell_type": "code",
   "execution_count": null,
   "id": "92249c6f-cbc9-447e-96c2-966f7be05a3d",
   "metadata": {},
   "outputs": [],
   "source": []
  }
 ],
 "metadata": {
  "kernelspec": {
   "display_name": "Python 3 (ipykernel)",
   "language": "python",
   "name": "python3"
  },
  "language_info": {
   "codemirror_mode": {
    "name": "ipython",
    "version": 3
   },
   "file_extension": ".py",
   "mimetype": "text/x-python",
   "name": "python",
   "nbconvert_exporter": "python",
   "pygments_lexer": "ipython3",
   "version": "3.12.9"
  }
 },
 "nbformat": 4,
 "nbformat_minor": 5
}
