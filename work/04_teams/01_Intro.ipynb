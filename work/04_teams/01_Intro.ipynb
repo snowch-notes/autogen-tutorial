{
 "cells": [
  {
   "cell_type": "markdown",
   "id": "214d5b07",
   "metadata": {},
   "source": [
    "# Introduction to Multi-Agent Teams\n",
    "\n",
    "This notebook introduces the concept of multi-agent teams in AutoGen, where multiple agents collaborate to solve complex tasks.\n",
    "\n",
    "## What is a Team?\n",
    "\n",
    "A team is a collection of agents working together towards a shared objective. Teams enable diverse expertise and collaboration, making them suitable for tackling challenging problems that require multiple perspectives.\n",
    "\n",
    "## When to Use Teams\n",
    "\n",
    "- Use teams for tasks that benefit from collaboration and multiple viewpoints.\n",
    "- For simpler tasks, a single agent might be more efficient.\n",
    "- Optimize single agents with appropriate tools before moving to teams.\n",
    "\n",
    "## Team Configurations in AutoGen\n",
    "\n",
    "AutoGen provides several team configurations to suit different collaboration styles:\n",
    "\n",
    "- **RoundRobinChat**: Agents take turns speaking in a fixed order, sharing context.\n",
    "- **SelectorChat**: The next speaker is chosen dynamically based on model predictions.\n",
    "- **SwarmTeam**: Agents signal transitions using handoff messages for flexible collaboration.\n",
    "- **GeneralistTeam**: A versatile multi-agent system for open-ended tasks across domains.\n",
    "\n",
    "Each configuration offers unique advantages depending on the task requirements.\n",
    "\n",
    "## Next Steps\n",
    "\n",
    "In the following notebooks, we will explore how to create, run, observe, and control multi-agent teams with practical examples.\n"
   ]
  }
 ],
 "metadata": {
  "kernelspec": {
   "display_name": "Python 3 (ipykernel)",
   "language": "python",
   "name": "python3"
  },
  "language_info": {
   "codemirror_mode": {
    "name": "ipython",
    "version": 3
   },
   "file_extension": ".py",
   "mimetype": "text/x-python",
   "name": "python",
   "nbconvert_exporter": "python",
   "pygments_lexer": "ipython3",
   "version": "3.12.9"
  }
 },
 "nbformat": 4,
 "nbformat_minor": 5
}
