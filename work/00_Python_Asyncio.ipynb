{
 "cells": [
  {
   "cell_type": "markdown",
   "id": "e7183aaf-5624-446d-bbc5-a0bbbe65cf67",
   "metadata": {},
   "source": [
    "# Python Asynchio\n",
    "\n",
    "TODO very basic tutorial."
   ]
  },
  {
   "cell_type": "code",
   "execution_count": null,
   "id": "f5cd9dff-51b3-4c49-8e0c-2e44588993df",
   "metadata": {},
   "outputs": [],
   "source": []
  }
 ],
 "metadata": {
  "kernelspec": {
   "display_name": "Python 3 (ipykernel)",
   "language": "python",
   "name": "python3"
  },
  "language_info": {
   "codemirror_mode": {
    "name": "ipython",
    "version": 3
   },
   "file_extension": ".py",
   "mimetype": "text/x-python",
   "name": "python",
   "nbconvert_exporter": "python",
   "pygments_lexer": "ipython3",
   "version": "3.12.9"
  }
 },
 "nbformat": 4,
 "nbformat_minor": 5
}
