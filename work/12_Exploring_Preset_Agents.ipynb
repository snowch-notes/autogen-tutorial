{
 "cells": [
  {
   "cell_type": "markdown",
   "id": "exploring-preset-agents-overview",
   "metadata": {},
   "source": [
    "# Exploring Other Preset Agents in AutoGen AgentChat\n",
    "\n",
    "## Overview\n",
    "\n",
    "While `AssistantAgent` is a versatile general-purpose agent, AutoGen AgentChat provides several other specialized preset agents designed for specific interaction patterns and tasks. Understanding these agents can help you choose the right tool for your multi-agent applications.\n",
    "\n",
    "This notebook will briefly introduce some of these other preset agents and their primary use cases."
   ]
  },
  {
   "cell_type": "markdown",
   "id": "prerequisites",
   "metadata": {},
   "source": [
    "## Prerequisites\n",
    "\n",
    "Ensure you have the necessary packages installed:"
   ]
  },
  {
   "cell_type": "code",
   "execution_count": 1,
   "id": "6e9b6d66-35bc-4ba7-9c27-28762fae34ec",
   "metadata": {},
   "outputs": [],
   "source": [
    "! pip install --quiet -U \"autogen-agentchat>=0.7\" \"autogen-ext[openai]>=0.7\" rich"
   ]
  },
  {
   "cell_type": "markdown",
   "id": "2a675615-180f-4156-9ab5-8db7b5f593da",
   "metadata": {},
   "source": [
    "Note: Some agents require additional dependencies, which are included in the `autogen-ext` extras."
   ]
  },
  {
   "cell_type": "markdown",
   "id": "user-proxy-agent",
   "metadata": {},
   "source": [
    "## `UserProxyAgent`\n",
    "\n",
    "The `UserProxyAgent` is designed to simulate a human user. It takes user input and returns it as responses, often acting as the entry point for a conversation or a proxy for human feedback and intervention in multi-agent systems.\n",
    "\n",
    "We haven't covered teams - this will be covered in a later tutorial.  For now just think of a team as multiple agents that work together until some termination criteria."
   ]
  },
  {
   "cell_type": "code",
   "execution_count": 7,
   "id": "user-proxy-agent-example",
   "metadata": {},
   "outputs": [
    {
     "name": "stdout",
     "output_type": "stream",
     "text": [
      "\n",
      "🔄 Conversation with UserProxyAgent:\n",
      "----------------------------------------\n",
      "---------- TextMessage (user) ----------\n",
      "Tell me a joke.\n",
      "---------- TextMessage (assistant) ----------\n",
      "Why did the scarecrow win an award?\n",
      "\n",
      "Because he was outstanding in his field!\n"
     ]
    },
    {
     "name": "stdin",
     "output_type": "stream",
     "text": [
      "Enter your response:  what do you call a donkey with three legs\n"
     ]
    },
    {
     "name": "stdout",
     "output_type": "stream",
     "text": [
      "---------- TextMessage (user_proxy) ----------\n",
      "what do you call a donkey with three legs\n",
      "---------- TextMessage (assistant) ----------\n",
      "A wonky donkey!\n"
     ]
    },
    {
     "name": "stdin",
     "output_type": "stream",
     "text": [
      "Enter your response:  TERMINATE\n"
     ]
    },
    {
     "name": "stdout",
     "output_type": "stream",
     "text": [
      "---------- TextMessage (user_proxy) ----------\n",
      "TERMINATE\n"
     ]
    }
   ],
   "source": [
    "import asyncio\n",
    "from autogen_agentchat.agents import UserProxyAgent, AssistantAgent\n",
    "from autogen_ext.models.openai import OpenAIChatCompletionClient\n",
    "from autogen_agentchat.ui import Console\n",
    "\n",
    "async def run_user_proxy_example():\n",
    "    model_client = OpenAIChatCompletionClient(model=\"gpt-4o-mini\")\n",
    "    \n",
    "    # The assistant agent\n",
    "    assistant = AssistantAgent(\n",
    "        name=\"assistant\",\n",
    "        model_client=model_client,\n",
    "        system_message=\"You are a helpful AI assistant.\"\n",
    "    )\n",
    "    \n",
    "    # The user proxy agent\n",
    "    user_proxy = UserProxyAgent(\n",
    "        name=\"user_proxy\",\n",
    "    )\n",
    "    \n",
    "    print(\"\\n🔄 Conversation with UserProxyAgent:\")\n",
    "    print(\"Enter TERMINATE to exit.\")\n",
    "    print(\"-\" * 40)\n",
    "    \n",
    "    from autogen_agentchat.teams import RoundRobinGroupChat\n",
    "    from autogen_agentchat.conditions import MaxMessageTermination, TextMentionTermination\n",
    "    \n",
    "    # Create a team with termination condition\n",
    "    team = RoundRobinGroupChat(\n",
    "        participants=[assistant, user_proxy],\n",
    "        termination_condition=TextMentionTermination(\"TERMINATE\") | MaxMessageTermination(max_messages=5)\n",
    "    )\n",
    "    \n",
    "    # Run the team conversation\n",
    "    await Console(team.run_stream(task=\"Tell me a joke.\"))    \n",
    "    await model_client.close()\n",
    "\n",
    "await run_user_proxy_example()"
   ]
  },
  {
   "cell_type": "markdown",
   "id": "code-executor-agent",
   "metadata": {},
   "source": [
    "## `CodeExecutorAgent`\n",
    "\n",
    "The `CodeExecutorAgent` is specialized in executing code. It can be configured to run code in various environments (e.g., a local Python interpreter, a Docker container). This agent is crucial for tasks requiring computation, data processing, or interaction with local systems."
   ]
  },
  {
   "cell_type": "code",
   "execution_count": 18,
   "id": "code-executor-agent-example",
   "metadata": {
    "scrolled": true
   },
   "outputs": [
    {
     "name": "stdout",
     "output_type": "stream",
     "text": [
      "Approval requested to run the following code:\n",
      "---------------------------------------------\n",
      "```python\n",
      "print('Hello from AutoGen!')\n",
      "\n",
      "```\n",
      "---------------------------------------------\n"
     ]
    },
    {
     "name": "stdin",
     "output_type": "stream",
     "text": [
      "Execute code? (y/n):  y\n"
     ]
    },
    {
     "name": "stdout",
     "output_type": "stream",
     "text": [
      "\n",
      "Agent's response:\n",
      "Hello from AutoGen!\n",
      "\n"
     ]
    }
   ],
   "source": [
    "import asyncio\n",
    "from autogen_agentchat.agents import CodeExecutorAgent, ApprovalRequest, ApprovalResponse\n",
    "from autogen_agentchat.messages import TextMessage\n",
    "from autogen_ext.code_executors.local import LocalCommandLineCodeExecutor\n",
    "from autogen_core import CancellationToken\n",
    "\n",
    "# This function asks the user for permission to run the code.\n",
    "def ask_for_approval(request: ApprovalRequest) -> ApprovalResponse:\n",
    "    \"\"\"A simple function to get user approval for code execution.\"\"\"\n",
    "    print(\"Approval requested to run the following code:\")\n",
    "    print(\"---------------------------------------------\")\n",
    "    print(request.code)\n",
    "    print(\"---------------------------------------------\")\n",
    "    \n",
    "    reply = input(\"Execute code? (y/n): \").strip().lower()\n",
    "    if reply == 'y':\n",
    "        # The fix is here: we now provide a reason for the approval.\n",
    "        return ApprovalResponse(approved=True, reason=\"User approved.\")\n",
    "    return ApprovalResponse(approved=False, reason=\"User denied.\")\n",
    "\n",
    "async def main() -> None:\n",
    "    # 1. Create an agent that executes code locally.\n",
    "    #    It will use the `ask_for_approval` function before running anything.\n",
    "    local_executor = LocalCommandLineCodeExecutor(work_dir=\"coding\")\n",
    "    code_agent = CodeExecutorAgent(\n",
    "        name=\"code_executor\",\n",
    "        code_executor=local_executor,\n",
    "        approval_func=ask_for_approval\n",
    "    )\n",
    "\n",
    "    # 2. Define the task for the agent.\n",
    "    code_task = TextMessage(\n",
    "        content=\"Here is the code to run: ```python\\nprint('Hello from AutoGen!')\\n```\",\n",
    "        source=\"user\",\n",
    "    )\n",
    "\n",
    "    # 3. Run the agent and print the result.\n",
    "    response = await code_agent.on_messages([code_task], CancellationToken())\n",
    "    print(\"\\nAgent's response:\")\n",
    "    print(response.chat_message.content)\n",
    "\n",
    "await main()"
   ]
  },
  {
   "cell_type": "code",
   "execution_count": null,
   "id": "d9c99b77-e65a-4890-8a13-8b4e6a90840a",
   "metadata": {},
   "outputs": [],
   "source": [
    "## Other Agents"
   ]
  },
  {
   "cell_type": "markdown",
   "id": "openai-assistant-agent",
   "metadata": {},
   "source": [
    "### `OpenAIAssistantAgent`\n",
    "\n",
    "The `OpenAIAssistantAgent` is a specialized agent that leverages OpenAI's Assistants API. This agent can utilize tools, retrieve information, and manage threads directly through the OpenAI platform, offering a different paradigm for agent development compared to the local `AssistantAgent`. [[api docs](https://microsoft.github.io/autogen/stable/reference/python/autogen_ext.agents.openai.html#autogen_ext.agents.openai.OpenAIAssistantAgent)]"
   ]
  },
  {
   "cell_type": "markdown",
   "id": "web-surfer-agents",
   "metadata": {},
   "source": [
    "### `MultimodalWebSurfer`\n",
    "\n",
    "The `MultimodalWebSurfer` is an agent capable of interacting with web pages. It can navigate, extract information, and even perform actions on websites, making it ideal for tasks like web research, data scraping, or interacting with web-based applications. [[api docs](https://microsoft.github.io/autogen/stable/reference/python/autogen_ext.agents.web_surfer.html#autogen_ext.agents.web_surfer.MultimodalWebSurfer)]"
   ]
  },
  {
   "cell_type": "markdown",
   "id": "file-surfer-agent",
   "metadata": {},
   "source": [
    "### `FileSurfer`\n",
    "\n",
    "The `FileSurfer` agent is designed to interact with local file systems. It can search, read, and potentially write to files, making it invaluable for tasks involving local data analysis, code review, or document processing. [[api docs](https://microsoft.github.io/autogen/stable/reference/python/autogen_ext.agents.file_surfer.html#autogen_ext.agents.file_surfer.FileSurfer)]"
   ]
  },
  {
   "cell_type": "markdown",
   "id": "video-surfer-agent",
   "metadata": {},
   "source": [
    "### `VideoSurfer`\n",
    "\n",
    "The `VideoSurfer` agent is designed to process and extract information from video content. This can involve summarizing video transcripts, identifying key moments, or answering questions based on video data. [[api docs](https://microsoft.github.io/autogen/stable/reference/python/autogen_ext.agents.video_surfer.html#autogen_ext.agents.video_surfer.VideoSurfer)]"
   ]
  },
  {
   "cell_type": "markdown",
   "id": "next-steps",
   "metadata": {},
   "source": [
    "## Next Steps\n",
    "\n",
    "Explore these preset agents further:\n",
    "\n",
    "1.  **Explore the api docs**: and attempt to use other agents listed in this tutorial.\n",
    "3.  **Customization**: Understand how to extend or customize these agents for your specific needs."
   ]
  },
  {
   "cell_type": "code",
   "execution_count": null,
   "id": "e2608e9a-938f-46b7-ac26-61f3d0eb35c9",
   "metadata": {},
   "outputs": [],
   "source": []
  }
 ],
 "metadata": {
  "kernelspec": {
   "display_name": "Python 3 (ipykernel)",
   "language": "python",
   "name": "python3"
  },
  "language_info": {
   "codemirror_mode": {
    "name": "ipython",
    "version": 3
   },
   "file_extension": ".py",
   "mimetype": "text/x-python",
   "name": "python",
   "nbconvert_exporter": "python",
   "pygments_lexer": "ipython3",
   "version": "3.12.9"
  }
 },
 "nbformat": 4,
 "nbformat_minor": 5
}
