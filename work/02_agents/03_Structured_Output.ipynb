{
 "cells": [
  {
   "cell_type": "markdown",
   "id": "tutorial-header",
   "metadata": {},
   "source": [
    "# Structured Output Tutorial: Book Review Agent\n",
    "\n",
    "## Overview\n",
    "\n",
    "Learn how to create AutoGen agents that return **structured, predictable output** instead of free-form text. This makes your AI responses perfect for:\n",
    "\n",
    "- Database integration\n",
    "- API responses  \n",
    "- Automated workflows\n",
    "- Data validation\n",
    "\n",
    "**Example**: We'll build a Book Review Agent that analyzes any book description and returns structured ratings and categories."
   ]
  },
  {
   "cell_type": "markdown",
   "id": "step1",
   "metadata": {},
   "source": [
    "## Step 1: Define Your Structure\n",
    "\n",
    "First, create a Pydantic model that defines exactly what data you want back:"
   ]
  },
  {
   "cell_type": "code",
   "execution_count": 1,
   "id": "define-model",
   "metadata": {},
   "outputs": [
    {
     "name": "stdout",
     "output_type": "stream",
     "text": [
      "✅ BookReview model defined!\n"
     ]
    }
   ],
   "source": [
    "from typing import Literal, List\n",
    "from pydantic import BaseModel\n",
    "\n",
    "class BookReview(BaseModel):\n",
    "    title: str\n",
    "    genre: Literal[\"fiction\", \"non-fiction\", \"mystery\", \"romance\", \"sci-fi\", \"biography\", \"self-help\"]\n",
    "    rating: Literal[1, 2, 3, 4, 5]  # 1-5 stars\n",
    "    target_audience: Literal[\"children\", \"young-adult\", \"adult\", \"academic\"]\n",
    "    themes: List[str]  # Main themes/topics\n",
    "    recommendation: str  # One sentence recommendation\n",
    "\n",
    "print(\"✅ BookReview model defined!\")"
   ]
  },
  {
   "cell_type": "markdown",
   "id": "step2",
   "metadata": {},
   "source": [
    "## Step 2: Create Your Agent\n",
    "\n",
    "Create an agent that will return your structured format:"
   ]
  },
  {
   "cell_type": "code",
   "execution_count": 2,
   "id": "create-agent",
   "metadata": {},
   "outputs": [
    {
     "name": "stdout",
     "output_type": "stream",
     "text": [
      "🤖 Book Review Agent created!\n"
     ]
    }
   ],
   "source": [
    "from autogen_agentchat.agents import AssistantAgent\n",
    "from autogen_ext.models.openai import OpenAIChatCompletionClient\n",
    "\n",
    "# Create model and agent (no await needed)\n",
    "# These just set up objects in memory - no network calls yet!\n",
    "model_client = OpenAIChatCompletionClient(model=\"gpt-4o\")\n",
    "\n",
    "book_agent = AssistantAgent(\n",
    "    name=\"book_reviewer\",\n",
    "    model_client=model_client,\n",
    "    system_message=\"You are a book critic. Analyze books and provide structured reviews in the exact JSON format specified.\",\n",
    "    output_content_type=BookReview,  # This is the magic line!\n",
    ")\n",
    "\n",
    "print(\"🤖 Book Review Agent created!\")"
   ]
  },
  {
   "cell_type": "markdown",
   "id": "step3",
   "metadata": {},
   "source": [
    "## Step 3: Test It Out\n",
    "\n",
    "Send a book description and get structured data back:"
   ]
  },
  {
   "cell_type": "code",
   "execution_count": 3,
   "id": "test-agent",
   "metadata": {},
   "outputs": [
    {
     "name": "stdout",
     "output_type": "stream",
     "text": [
      "---------- TextMessage (user) ----------\n",
      "\n",
      "\"The Martian\" by Andy Weir is about an astronaut stranded on Mars who must \n",
      "use science and engineering to survive until rescue. It's full of problem-solving, \n",
      "humor, and technical details about space survival.\n",
      "\n",
      "---------- StructuredMessage[BookReview] (book_reviewer) ----------\n",
      "{\"title\":\"The Martian\",\"genre\":\"sci-fi\",\"rating\":5,\"target_audience\":\"adult\",\"themes\":[\"survival\",\"isolation\",\"ingenuity\",\"perseverance\",\"humanity\"],\"recommendation\":\"A must-read for fans of hard science fiction and adventure stories with a focus on resourcefulness and clever problem-solving. Highly recommended for readers interested in space and science.\"}\n"
     ]
    }
   ],
   "source": [
    "from autogen_agentchat.messages import StructuredMessage\n",
    "from autogen_agentchat.ui import Console\n",
    "\n",
    "# Test with a book description\n",
    "book_description = \"\"\"\n",
    "\"The Martian\" by Andy Weir is about an astronaut stranded on Mars who must \n",
    "use science and engineering to survive until rescue. It's full of problem-solving, \n",
    "humor, and technical details about space survival.\n",
    "\"\"\"\n",
    "\n",
    "# Get structured response\n",
    "result = await Console(book_agent.run_stream(task=book_description))\n",
    "\n",
    "# Validate it's structured (the Console output above shows this worked!)\n",
    "assert isinstance(result.messages[-1], StructuredMessage)\n",
    "assert isinstance(result.messages[-1].content, BookReview)\n",
    "\n",
    "# Extract the structured data\n",
    "review = result.messages[-1].content"
   ]
  },
  {
   "cell_type": "markdown",
   "id": "22e6a5ea-c4a3-4855-8976-2110ea6e276e",
   "metadata": {},
   "source": [
    "**Understanding the Console output**\n",
    "\n",
    "Notice how the `Console` [api docs](https://microsoft.github.io/autogen/stable/reference/python/autogen_agentchat.ui.html#autogen_agentchat.ui.Console) displayed the conversation flow above:\n",
    "\n",
    "1. 📝 TextMessage (user) - Your input book description\n",
    "2. 🤖 StructuredMessage[BookReview] (book_reviewer) - Agent's structured response\n",
    "\n",
    "The Console is AutoGen's built-in UI that shows you exactly what's happening\n",
    "in the conversation. It's perfect for debugging and understanding how your\n",
    "agents are communicating!\n"
   ]
  },
  {
   "cell_type": "markdown",
   "id": "step4",
   "metadata": {},
   "source": [
    "## Step 4: Use the Structured Data\n",
    "\n",
    "Now you can easily work with the structured output programmatically:"
   ]
  },
  {
   "cell_type": "code",
   "execution_count": 4,
   "id": "use-data",
   "metadata": {},
   "outputs": [
    {
     "name": "stdout",
     "output_type": "stream",
     "text": [
      "✅ Highly recommended book!\n",
      "\n",
      "💾 Ready for database: {'title': 'The Martian', 'genre': 'sci-fi', 'rating': 5, 'themes': ['survival', 'isolation', 'ingenuity', 'perseverance', 'humanity']}\n",
      "\n",
      "📡 JSON for API: {\"title\":\"The Martian\",\"genre\":\"sci-fi\",\"rating\":5,\"target_audience\":\"adult\",\"themes\":[\"survival\",\"isolation\",\"ingenuity\",\"perseverance\",\"humanity\"],\"recommendation\":\"A must-read for fans of hard science fiction and adventure stories with a focus on resourcefulness and clever problem-solving. Highly recommended for readers interested in space and science.\"}\n"
     ]
    }
   ],
   "source": [
    "# Easy to filter and categorize\n",
    "if review.rating >= 4:\n",
    "    print(\"✅ Highly recommended book!\")\n",
    "elif review.rating >= 3:\n",
    "    print(\"👍 Worth reading\")\n",
    "else:\n",
    "    print(\"❌ Skip this one\")\n",
    "\n",
    "# Easy to save to database\n",
    "book_data = {\n",
    "    \"title\": review.title,\n",
    "    \"genre\": review.genre,\n",
    "    \"rating\": review.rating,\n",
    "    \"themes\": review.themes\n",
    "}\n",
    "\n",
    "print(f\"\\n💾 Ready for database: {book_data}\")\n",
    "\n",
    "# Convert to JSON for APIs\n",
    "json_output = review.model_dump_json()\n",
    "print(f\"\\n📡 JSON for API: {json_output}\")"
   ]
  },
  {
   "cell_type": "markdown",
   "id": "cleanup",
   "metadata": {},
   "source": [
    "## Cleanup\n",
    "\n",
    "Only the model client cleanup needs await (closes network connection):"
   ]
  },
  {
   "cell_type": "code",
   "execution_count": 5,
   "id": "ce013705",
   "metadata": {},
   "outputs": [
    {
     "name": "stdout",
     "output_type": "stream",
     "text": [
      "✅ Done!\n"
     ]
    }
   ],
   "source": [
    "await model_client.close()\n",
    "print(\"✅ Done!\")"
   ]
  },
  {
   "cell_type": "markdown",
   "id": "key-points",
   "metadata": {},
   "source": [
    "## Key Points\n",
    "\n",
    "1. **Define structure first**: Create a Pydantic model with the fields you want\n",
    "2. **Use `output_content_type`**: This tells the agent to return structured data\n",
    "3. **Validate the response**: Check it's a `StructuredMessage` with your model type\n",
    "4. **Work programmatically**: Filter, save, convert to JSON easily\n",
    "\n",
    "**Try it yourself**: \n",
    "\n",
    "- Modify the `BookReview` model or create your own for movies, products, or restaurants!\n"
   ]
  },
  {
   "cell_type": "code",
   "execution_count": null,
   "id": "fe0875d2-f8dc-41cf-87b8-5e4aad34c02b",
   "metadata": {},
   "outputs": [],
   "source": []
  }
 ],
 "metadata": {
  "kernelspec": {
   "display_name": "Python 3 (ipykernel)",
   "language": "python",
   "name": "python3"
  },
  "language_info": {
   "codemirror_mode": {
    "name": "ipython",
    "version": 3
   },
   "file_extension": ".py",
   "mimetype": "text/x-python",
   "name": "python",
   "nbconvert_exporter": "python",
   "pygments_lexer": "ipython3",
   "version": "3.12.9"
  }
 },
 "nbformat": 4,
 "nbformat_minor": 5
}
