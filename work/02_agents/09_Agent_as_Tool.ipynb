{
 "cells": [
  {
   "cell_type": "markdown",
   "id": "agent-as-tool-overview",
   "metadata": {},
   "source": [
    "# Agent as a Tool: Dynamic Multi-Agent Workflows\n",
    "\n",
    "## Overview\n",
    "\n",
    "In AutoGen AgentChat, any `BaseChatAgent` can be wrapped and used as a tool by another agent. This powerful feature enables dynamic, model-driven multi-agent workflows, where a primary agent can decide to invoke other specialized agents to solve sub-tasks.\n",
    "\n",
    "This notebook demonstrates how to use `autogen_agentchat.tools.AgentTool` to achieve this agent-as-a-tool pattern, fostering more complex and adaptive agentic behaviors."
   ]
  },
  {
   "cell_type": "markdown",
   "id": "prerequisites",
   "metadata": {},
   "source": [
    "## Prerequisites\n",
    "\n",
    "Ensure you have the necessary packages installed:"
   ]
  },
  {
   "cell_type": "code",
   "execution_count": 1,
   "id": "cf27535e-f863-44fc-bc6a-c5d9074ef0f0",
   "metadata": {},
   "outputs": [],
   "source": [
    "!pip install --quiet -U \"autogen-agentchat>=0.7\" \"autogen-ext[openai]>=0.7\" rich\n",
    "\n",
    "# IMPORTANT: See: https://github.com/microsoft/autogen/issues/6906\n",
    "!pip install --quiet --force-reinstall \"openai==1.80\""
   ]
  },
  {
   "cell_type": "markdown",
   "id": "598bcc3a-5bcb-4e27-b3f3-6bd7346a8983",
   "metadata": {},
   "source": [
    "> **⚠️ IMPORTANT:**  \n",
    "> If you just ran the `!pip install --quiet --force-reinstall \"openai==1.80\"` command,  \n",
    "> you **must** restart the Jupyter kernel before continuing.  \n",
    "> This ensures the newly installed `openai` package is loaded into memory  \n",
    "> and avoids mixed-version issues that can cause runtime errors.  \n",
    ">  \n",
    "> **In Jupyter:** go to **Kernel → Restart & Clear Output**, then rerun the notebook from the top."
   ]
  },
  {
   "cell_type": "markdown",
   "id": "example-agent-as-tool",
   "metadata": {},
   "source": [
    "## Example: A Summarizer Agent as a Tool\n",
    "\n",
    "We will create a simple 'Summarizer Agent' whose sole purpose is to summarize text. Then, we will wrap this summarizer agent as a tool and provide it to a 'Primary Agent'. The primary agent will then decide when and how to use the summarizer tool based on its task."
   ]
  },
  {
   "cell_type": "code",
   "execution_count": 2,
   "id": "agent-as-tool-code",
   "metadata": {},
   "outputs": [
    {
     "name": "stdout",
     "output_type": "stream",
     "text": [
      "\n",
      "🔄 Task: What is my public IP address?\n",
      "----------------------------------------\n",
      "---------- TextMessage (user) ----------\n",
      "Please summarize the following text: The quick brown fox jumps over the lazy dog. This is a classic pangram, a sentence that contains every letter of the alphabet at least once. Pangrams are often used to display typefaces or to test the functionality of keyboards. Another famous pangram is 'Pack my box with five dozen liquor jugs.'\n",
      "---------- ToolCallRequestEvent (primary_assistant) ----------\n",
      "[FunctionCall(id='call_EKI5zjuF7aXSuJpyuufQXp9d', arguments='{\"task\":\"The quick brown fox jumps over the lazy dog is a classic pangram containing every letter of the alphabet. Pangrams are used to display typefaces and test keyboards. Another example is \\'Pack my box with five dozen liquor jugs.\\'\"}', name='summarizer')]\n",
      "---------- TextMessage (user) ----------\n",
      "The quick brown fox jumps over the lazy dog is a classic pangram containing every letter of the alphabet. Pangrams are used to display typefaces and test keyboards. Another example is 'Pack my box with five dozen liquor jugs.'\n",
      "---------- TextMessage (summarizer) ----------\n",
      "A pangram, such as \"The quick brown fox jumps over the lazy dog,\" includes every letter of the alphabet and is often used for displaying typefaces and testing keyboards. Another example is \"Pack my box with five dozen liquor jugs.\"\n",
      "---------- ToolCallExecutionEvent (primary_assistant) ----------\n",
      "[FunctionExecutionResult(content='summarizer: A pangram, such as \"The quick brown fox jumps over the lazy dog,\" includes every letter of the alphabet and is often used for displaying typefaces and testing keyboards. Another example is \"Pack my box with five dozen liquor jugs.\"', name='summarizer', call_id='call_EKI5zjuF7aXSuJpyuufQXp9d', is_error=False)]\n",
      "---------- ToolCallSummaryMessage (primary_assistant) ----------\n",
      "summarizer: A pangram, such as \"The quick brown fox jumps over the lazy dog,\" includes every letter of the alphabet and is often used for displaying typefaces and testing keyboards. Another example is \"Pack my box with five dozen liquor jugs.\"\n"
     ]
    }
   ],
   "source": [
    "import asyncio\n",
    "from autogen_agentchat.agents import AssistantAgent\n",
    "from autogen_ext.models.openai import OpenAIChatCompletionClient\n",
    "from autogen_agentchat.tools import AgentTool\n",
    "from autogen_agentchat.ui import Console\n",
    "\n",
    "async def run_agent_as_tool_example():\n",
    "    # 1. Initialize a model client\n",
    "    model_client = OpenAIChatCompletionClient(model=\"gpt-4o-mini\")\n",
    "\n",
    "    # 2. Create the Summarizer Agent (the agent that will become a tool)\n",
    "    summarizer_agent = AssistantAgent(\n",
    "        name=\"summarizer\",\n",
    "        model_client=model_client,\n",
    "        system_message=\"You are a helpful assistant that summarizes text concisely.\"\n",
    "    )\n",
    "\n",
    "    # 3. Wrap the Summarizer Agent as an AgentTool\n",
    "    # The description is crucial for the primary agent to understand when to use this tool.\n",
    "    summarize_tool = AgentTool(\n",
    "        summarizer_agent,\n",
    "        # name=\"summarize_text\",\n",
    "        # description=\"Summarizes a given text concisely. Input: text (str). Output: summary (str).\"\n",
    "    )\n",
    "\n",
    "    # 4. Create the Primary Agent and provide it with the AgentTool\n",
    "    primary_agent = AssistantAgent(\n",
    "        name=\"primary_assistant\",\n",
    "        model_client=model_client,\n",
    "        tools=[summarize_tool], # The wrapped agent is now a tool\n",
    "        system_message=\"You are a versatile assistant. Use the 'summarize_text' tool if the user asks for a summary.\"\n",
    "    )\n",
    "\n",
    "    # 5. Run a task with the primary agent\n",
    "    long_text = (\n",
    "        \"The quick brown fox jumps over the lazy dog. This is a classic pangram, \"\n",
    "        \"a sentence that contains every letter of the alphabet at least once. \"\n",
    "        \"Pangrams are often used to display typefaces or to test the functionality of keyboards. \"\n",
    "        \"Another famous pangram is 'Pack my box with five dozen liquor jugs.'\"\n",
    "    )\n",
    "\n",
    "    task = f\"Please summarize the following text: {long_text}\"\n",
    "\n",
    "    print(\"\\n🔄 Task: What is my public IP address?\")\n",
    "    print(\"-\" * 40)\n",
    "    await Console(primary_agent.run_stream(task=task))\n",
    "\n",
    "    # Clean up resources\n",
    "    await model_client.close()\n",
    "\n",
    "await run_agent_as_tool_example()"
   ]
  },
  {
   "cell_type": "markdown",
   "id": "how-it-works",
   "metadata": {},
   "source": [
    "## How it Works\n",
    "\n",
    "When the `primary_agent` receives the task, its internal LLM analyzes the request. Because the `summarize_text` tool (which is actually our `summarizer_agent`) has a clear description indicating it can summarize text, the LLM decides to call this tool. The `AgentTool` then orchestrates the execution of the `summarizer_agent` with the provided text as its input. The output of the `summarizer_agent` is then returned to the `primary_agent` as the tool's result, which the `primary_agent` can then present as its response.\n",
    "\n",
    "This pattern allows for:\n",
    "\n",
    "- **Modularity**: Break down complex tasks into smaller, specialized agents.\n",
    "- **Reusability**: Reuse agents as tools across different workflows.\n",
    "- **Dynamic Dispatch**: The LLM dynamically decides which agent-tool to use based on the task context.\n",
    "- **Hierarchical Reasoning**: Create layers of agents, where higher-level agents delegate to lower-level specialized agents."
   ]
  },
  {
   "cell_type": "markdown",
   "id": "next-steps",
   "metadata": {},
   "source": [
    "## Next Steps\n",
    "\n",
    "Experiment with the agent-as-a-tool pattern:\n",
    "\n",
    "1.  **Create other specialized agents**: For example, a 'Code Generator Agent' or a 'Data Analysis Agent' and use them as tools.\n",
    "2.  **Chain agent tools**: Have one agent-tool call another agent-tool for multi-step delegation.\n",
    "3.  **Explore multi-agent conversations**: Combine this with multi-agent conversations where agents can directly chat and also use each other as tools."
   ]
  }
 ],
 "metadata": {
  "kernelspec": {
   "display_name": "Python 3 (ipykernel)",
   "language": "python",
   "name": "python3"
  },
  "language_info": {
   "codemirror_mode": {
    "name": "ipython",
    "version": 3
   },
   "file_extension": ".py",
   "mimetype": "text/x-python",
   "name": "python",
   "nbconvert_exporter": "python",
   "pygments_lexer": "ipython3",
   "version": "3.12.9"
  }
 },
 "nbformat": 4,
 "nbformat_minor": 5
}
