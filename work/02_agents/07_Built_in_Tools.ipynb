{
 "cells": [
  {
   "cell_type": "markdown",
   "id": "built-in-tools-overview",
   "metadata": {},
   "source": [
    "# Built-in Tools in AutoGen Extension\n",
    "\n",
    "## Overview\n",
    "\n",
    "AutoGen Extension provides a rich set of pre-built tools that can significantly enhance the capabilities of your agents. These tools cover various functionalities, from interacting with web services to integrating with other AI frameworks.\n",
    "\n",
    "This notebook will explore some of the key built-in tools available under the `autogen_ext.tools` namespace and demonstrate how to integrate them with your `AssistantAgent`."
   ]
  },
  {
   "cell_type": "markdown",
   "id": "prerequisites",
   "metadata": {},
   "source": [
    "## Prerequisites\n",
    "\n",
    "Ensure you have the necessary packages installed:"
   ]
  },
  {
   "cell_type": "code",
   "execution_count": 1,
   "id": "679af9f6-ff5a-492f-9aba-c8ed35259c1a",
   "metadata": {},
   "outputs": [],
   "source": [
    "!pip install --quiet -U \"autogen-agentchat>=0.7\" \"autogen-ext[openai,mcp]>=0.7\" rich\n",
    "\n",
    "# IMPORTANT: See: https://github.com/microsoft/autogen/issues/6906\n",
    "!pip install --quiet --force-reinstall \"openai==1.80\""
   ]
  },
  {
   "cell_type": "markdown",
   "id": "85b85de5-a8e3-4f82-af2a-a30c6799be43",
   "metadata": {},
   "source": [
    "> **⚠️ IMPORTANT:**  \n",
    "> If you just ran the `!pip install --quiet --force-reinstall \"openai==1.80\"` command,  \n",
    "> you **must** restart the Jupyter kernel before continuing.  \n",
    "> This ensures the newly installed `openai` package is loaded into memory  \n",
    "> and avoids mixed-version issues that can cause runtime errors.  \n",
    ">  \n",
    "> **In Jupyter:** go to **Kernel → Restart & Clear Output**, then rerun the notebook from the top."
   ]
  },
  {
   "cell_type": "markdown",
   "id": "http-tools",
   "metadata": {},
   "source": [
    "## HTTP Tools (`autogen_ext.tools.http`)\n",
    "\n",
    "The `http` module provides tools for making HTTP requests, allowing agents to fetch data from web APIs or interact with web services."
   ]
  },
  {
   "cell_type": "code",
   "execution_count": 2,
   "id": "45dbcf41-4f69-4f04-a90e-4e7b01cdc3c4",
   "metadata": {},
   "outputs": [],
   "source": [
    "! pip install --quiet -U json-schema-to-pydantic"
   ]
  },
  {
   "cell_type": "code",
   "execution_count": 3,
   "id": "http-example",
   "metadata": {},
   "outputs": [
    {
     "name": "stdout",
     "output_type": "stream",
     "text": [
      "\n",
      "🔄 Task: What is my public IP address?\n",
      "----------------------------------------\n",
      "---------- TextMessage (user) ----------\n",
      "What is my public IP address?\n",
      "---------- ToolCallRequestEvent (ip_checker) ----------\n",
      "[FunctionCall(id='call_80YaAQf9BKlGAxHbO9vd2zkz', arguments='{}', name='get_public_ip')]\n",
      "---------- ToolCallExecutionEvent (ip_checker) ----------\n",
      "[FunctionExecutionResult(content='203.0.113.45', name='get_public_ip', call_id='call_80YaAQf9BKlGAxHbO9vd2zkz', is_error=False)]\n",
      "---------- ToolCallSummaryMessage (ip_checker) ----------\n",
      "203.0.113.45\n"
     ]
    }
   ],
   "source": [
    "import asyncio\n",
    "from autogen_agentchat.agents import AssistantAgent\n",
    "from autogen_ext.models.openai import OpenAIChatCompletionClient\n",
    "from autogen_agentchat.ui import Console\n",
    "from autogen_core.tools import FunctionTool  # ✅ correct import for 0.7.1\n",
    "\n",
    "\n",
    "# Define an async Python function tool\n",
    "async def get_public_ip() -> str:\n",
    "    \"\"\"Fetches the public IP address.\"\"\"\n",
    "    return \"203.0.113.45\"  # mocked value\n",
    "\n",
    "\n",
    "# Wrap it as a FunctionTool (no .from_function in 0.7.1)\n",
    "get_ip_tool = FunctionTool(\n",
    "    func=get_public_ip,\n",
    "    description=\"Get the current public IP address.\"\n",
    ")\n",
    "\n",
    "\n",
    "async def run_http_example():\n",
    "    model_client = OpenAIChatCompletionClient(model=\"gpt-4o-mini\")\n",
    "\n",
    "    agent = AssistantAgent(\n",
    "        name=\"ip_checker\",\n",
    "        model_client=model_client,\n",
    "        tools=[get_ip_tool],\n",
    "        system_message=\"You are an assistant that can check public IP addresses.\"\n",
    "    )\n",
    "\n",
    "    print(\"\\n🔄 Task: What is my public IP address?\")\n",
    "    print(\"-\" * 40)\n",
    "    await Console(agent.run_stream(task=\"What is my public IP address?\"))\n",
    "    await model_client.close()\n",
    "\n",
    "await run_http_example()"
   ]
  },
  {
   "cell_type": "markdown",
   "id": "mcp-tools",
   "metadata": {},
   "source": [
    "## MCP Tools (`autogen_ext.tools.mcp`)\n",
    "\n",
    "The `mcp` module provides tools and workbenches for interacting with Model Context Protocol (MCP) servers. This allows agents to leverage external services and data sources in a standardized, language-agnostic way.\n",
    "\n",
    "For a more detailed introduction to MCP, refer to `06_MCP_Intro.ipynb` and `07_Workbench.ipynb`."
   ]
  },
  {
   "cell_type": "markdown",
   "id": "other-built-in-tools",
   "metadata": {},
   "source": [
    "## Other Built-in Tools\n",
    "\n",
    "AutoGen Extension offers a variety of other tools for different use cases. You can explore them in the [API documentation](https://microsoft.github.io/autogen/stable/reference/python/autogen_ext.tools.html):\n",
    "\n",
    "- **`autogen_ext.tools.graphrag`**: Tools for interacting with GraphRAG indices.\n",
    "- **`autogen_ext.tools.langchain`**: Adaptors for using tools defined in LangChain.\n",
    "- **`autogen_ext.tools.playwright`**: Tools for web automation using Playwright (requires a running Playwright MCP server).\n",
    "\n",
    "Each of these tools can be integrated with `AssistantAgent` in a similar manner, either directly if they are `FunctionTool` compatible, or via a `Workbench` if they are part of an MCP server."
   ]
  },
  {
   "cell_type": "markdown",
   "id": "next-steps",
   "metadata": {},
   "source": [
    "## Next Steps\n",
    "\n",
    "This notebook provided a brief overview of some built-in tools. To deepen your understanding:\n",
    "\n",
    "1.  **Experiment with other tools**: Try integrating `HttpTool` for different API calls or explore `LangChain` adaptors.\n",
    "2.  **Refer to API Docs**: Consult the official [AutoGen Extension API documentation](https://microsoft.github.io/autogen/stable/reference/python/autogen_ext.tools.html) for a complete list and detailed usage of all built-in tools.\n",
    "3.  **Explore MCP Servers**: Set up and experiment with other MCP servers (e.g., `mcp-server-fetch`, `mcp-server-sqlite`) and integrate their tools via `McpWorkbench`."
   ]
  }
 ],
 "metadata": {
  "kernelspec": {
   "display_name": "Python 3 (ipykernel)",
   "language": "python",
   "name": "python3"
  },
  "language_info": {
   "codemirror_mode": {
    "name": "ipython",
    "version": 3
   },
   "file_extension": ".py",
   "mimetype": "text/x-python",
   "name": "python",
   "nbconvert_exporter": "python",
   "pygments_lexer": "ipython3",
   "version": "3.12.9"
  }
 },
 "nbformat": 4,
 "nbformat_minor": 5
}
