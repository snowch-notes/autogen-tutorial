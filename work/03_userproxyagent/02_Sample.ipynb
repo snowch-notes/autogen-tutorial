{
 "cells": [
  {
   "cell_type": "markdown",
   "id": "18a40a74-18c2-4085-b480-333599b49b56",
   "metadata": {},
   "source": [
    "# UserProxyAgent using FastAPI\n",
    "\n",
    "This notebook is a walk-through.\n",
    "\n",
    "https://github.com/microsoft/autogen/tree/main/python/samples/agentchat_fastapi"
   ]
  },
  {
   "cell_type": "code",
   "execution_count": null,
   "id": "9bbe000c-dfaa-4152-b376-f9ecbdaee3a2",
   "metadata": {},
   "outputs": [],
   "source": []
  }
 ],
 "metadata": {
  "kernelspec": {
   "display_name": "Python 3 (ipykernel)",
   "language": "python",
   "name": "python3"
  },
  "language_info": {
   "codemirror_mode": {
    "name": "ipython",
    "version": 3
   },
   "file_extension": ".py",
   "mimetype": "text/x-python",
   "name": "python",
   "nbconvert_exporter": "python",
   "pygments_lexer": "ipython3",
   "version": "3.12.9"
  }
 },
 "nbformat": 4,
 "nbformat_minor": 5
}
