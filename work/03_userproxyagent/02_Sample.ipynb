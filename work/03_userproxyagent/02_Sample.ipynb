{
 "cells": [
  {
   "cell_type": "markdown",
   "id": "18a40a74-18c2-4085-b480-333599b49b56",
   "metadata": {},
   "source": [
    "# UserProxyAgent using FastAPI\n",
    "\n",
    "This notebook is a walk-through of:\n",
    "\n",
    "- https://github.com/microsoft/autogen/tree/main/python/samples/agentchat_fastapi"
   ]
  },
  {
   "cell_type": "markdown",
   "id": "1fc2d401-64ac-46ab-bfec-ceda07dc3e6f",
   "metadata": {},
   "source": [
    "To run, open a terminal in Jupyter and execute:\n",
    "\n",
    "```bash\n",
    "cd 03_userproxyagent\n",
    "python app_team.py\n",
    "```\n",
    "\n",
    "Open a new browser tab to http://localhost:8002"
   ]
  },
  {
   "cell_type": "code",
   "execution_count": null,
   "id": "da706578-66ce-4999-be9c-a5a47ede7a10",
   "metadata": {},
   "outputs": [],
   "source": []
  }
 ],
 "metadata": {
  "kernelspec": {
   "display_name": "Python 3 (ipykernel)",
   "language": "python",
   "name": "python3"
  },
  "language_info": {
   "codemirror_mode": {
    "name": "ipython",
    "version": 3
   },
   "file_extension": ".py",
   "mimetype": "text/x-python",
   "name": "python",
   "nbconvert_exporter": "python",
   "pygments_lexer": "ipython3",
   "version": "3.12.9"
  }
 },
 "nbformat": 4,
 "nbformat_minor": 5
}
