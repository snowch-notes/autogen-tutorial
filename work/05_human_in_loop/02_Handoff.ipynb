{
 "cells": [
  {
   "cell_type": "markdown",
   "id": "7ca30382",
   "metadata": {},
   "source": [
    "# Tutorial: Controlling Agent Teams with Termination Conditions\n",
    "\n",
    "Termination conditions are rules that tell an agent team when to stop working. They're essential for creating controlled, interactive workflows instead of letting a conversation run indefinitely.\n",
    "\n",
    "This tutorial will cover two primary types of termination:\n",
    "1.  **`TextMentionTermination`**: Stopping when a specific keyword is mentioned.\n",
    "2.  **`HandoffTermination`**: Stopping when one agent needs to \"hand off\" control to another."
   ]
  },
  {
   "cell_type": "markdown",
   "id": "ee204b8b",
   "metadata": {},
   "source": [
    "## The Scenario: A Collaborative Writing Team ✍️\n",
    "\n",
    "We'll create a team with two AI agents:\n",
    "1.  **`storyteller_agent`**: Writes a short story.\n",
    "2.  **`editor_agent`**: Reviews the story, provides feedback, and sends it back for revisions.\n",
    "\n",
    "This process will loop until the `editor_agent` is satisfied and formally approves the story. We'll use termination conditions to manage the back-and-forth collaboration between them."
   ]
  },
  {
   "cell_type": "markdown",
   "id": "1c4e3099",
   "metadata": {},
   "source": [
    "### Workflow Visualization\n",
    "\n",
    "The following flowchart shows the iterative loop between the storyteller and the editor, with a final exit condition."
   ]
  },
  {
   "cell_type": "markdown",
   "id": "4c398761",
   "metadata": {},
   "source": [
    "```mermaid\n",
    "%% This defines the flowchart direction from Top to Down.\n",
    "graph TD\n",
    "\n",
    "    %% Define the nodes (shapes) of the flowchart.\n",
    "    A([Start: User provides a story prompt])\n",
    "    B[storyteller_agent: Writes Draft]\n",
    "    C[editor_agent: Reviews Draft]\n",
    "    D{Is the story approved?}\n",
    "    E([End: Collaboration Complete])\n",
    "\n",
    "    %% Define the main workflow path.\n",
    "    A --> B\n",
    "    B -- \"Handoff to Editor\" --> C\n",
    "    C --> D\n",
    "\n",
    "    %% Define the decision paths, including the feedback loop.\n",
    "    D -- \"No, needs revision.<br/>(Handoff to Storyteller)\" --> B\n",
    "    D -- \"Yes<br/>(Responds 'STORY APPROVED')\" --> E\n",
    "```"
   ]
  },
  {
   "cell_type": "markdown",
   "id": "f9262a8d",
   "metadata": {},
   "source": [
    "### 1. Setting Up the Agents with Handoffs\n",
    "\n",
    "First, we'll import the necessary libraries and set up our agents. The key is the **`handoffs`** parameter, which creates a special tool an agent can use to pass control to another agent. We'll also give each agent a system message that guides its behavior."
   ]
  },
  {
   "cell_type": "code",
   "execution_count": 1,
   "id": "3c1e3aac-60fd-4aea-aad7-0dd41751fd46",
   "metadata": {},
   "outputs": [],
   "source": [
    "!pip install --quiet -U \"autogen-agentchat>=0.7\" \"autogen-ext[openai,mcp]>=0.7\" \"mcp>=1.0.0\"\n",
    "\n",
    "# IMPORTANT: See: https://github.com/microsoft/autogen/issues/6906\n",
    "!pip install --quiet --force-reinstall \"openai==1.80\""
   ]
  },
  {
   "cell_type": "markdown",
   "id": "f6f5af8a-0150-49f8-b0bb-f7530dd765aa",
   "metadata": {},
   "source": [
    "> **⚠️ IMPORTANT:**  \n",
    "> If you just ran the `!pip install --quiet --force-reinstall \"openai==1.80\"` command,  \n",
    "> you **must** restart the Jupyter kernel before continuing.  \n",
    "> This ensures the newly installed `openai` package is loaded into memory  \n",
    "> and avoids mixed-version issues that can cause runtime errors.  \n",
    ">  \n",
    "> **In Jupyter:** go to **Kernel → Restart & Clear Output**, then rerun the notebook from the top."
   ]
  },
  {
   "cell_type": "code",
   "execution_count": 2,
   "id": "bb8b4c5e",
   "metadata": {},
   "outputs": [],
   "source": [
    "from autogen_agentchat.agents import AssistantAgent\n",
    "from autogen_agentchat.base import Handoff\n",
    "from autogen_agentchat.conditions import HandoffTermination, TextMentionTermination\n",
    "from autogen_agentchat.teams import RoundRobinGroupChat\n",
    "from autogen_ext.models.openai import OpenAIChatCompletionClient\n",
    "\n",
    "# Create a model client. Ensure you have your OPENAI_API_KEY environment variable set.\n",
    "model_client = OpenAIChatCompletionClient(model=\"gpt-4o\")\n",
    "\n",
    "# Create the Storyteller agent.\n",
    "storyteller_agent = AssistantAgent(\n",
    "    \"storyteller\",\n",
    "    model_client=model_client,\n",
    "    system_message=\"You are a creative storyteller. Write a short, three-sentence story based on the user's prompt. After writing, pass it to the 'editor' for review.\",\n",
    "    # This creates a 'transfer_to_editor' tool.\n",
    "    handoffs=[Handoff(target=\"editor\", message=\"Draft complete. Passing to editor for review.\")],\n",
    ")\n",
    "\n",
    "# Create the Editor agent.\n",
    "editor_agent = AssistantAgent(\n",
    "    \"editor\",\n",
    "    model_client=model_client,\n",
    "    system_message=\"You are a sharp-eyed editor. Review the story from the 'storyteller'. If it needs changes, provide clear feedback and hand it back. If it's perfect, respond with only the words 'STORY APPROVED'.\",\n",
    "    # This creates a 'transfer_to_storyteller' tool.\n",
    "    handoffs=[Handoff(target=\"storyteller\", message=\"Edits attached. Returning to storyteller.\")],\n",
    ")"
   ]
  },
  {
   "cell_type": "markdown",
   "id": "de36ebdf",
   "metadata": {},
   "source": [
    "### 2. Defining the Termination Logic\n",
    "\n",
    "Next, we define the rules for when the team should pause. We need three conditions which we will combine into a single condition using the `|` (OR) operator:\n",
    "1.  Pause when the storyteller hands off to the editor.\n",
    "2.  Pause when the editor hands off to the storyteller.\n",
    "3.  Stop completely when the editor says \"STORY APPROVED\"."
   ]
  },
  {
   "cell_type": "code",
   "execution_count": 3,
   "id": "56db2f61",
   "metadata": {},
   "outputs": [],
   "source": [
    "# The team will stop if a handoff to the editor is detected.\n",
    "handoff_to_editor = HandoffTermination(target=\"editor\")\n",
    "\n",
    "# The team will stop if a handoff to the storyteller is detected.\n",
    "handoff_to_storyteller = HandoffTermination(target=\"storyteller\")\n",
    "\n",
    "# The team will stop if the text \"STORY APPROVED\" is mentioned.\n",
    "approval = TextMentionTermination(\"STORY APPROVED\")\n",
    "\n",
    "# Combine all conditions. The team will stop if ANY of these are met.\n",
    "termination_logic = handoff_to_editor | handoff_to_storyteller | approval"
   ]
  },
  {
   "cell_type": "markdown",
   "id": "080f7484",
   "metadata": {},
   "source": [
    "### 3. Creating and Running the Team\n",
    "\n",
    "Now we can assemble our team using a `RoundRobinGroupChat`, which cycles through the agents. We'll run the team in a loop, allowing the conversation to continue until the final \"STORY APPROVED\" condition is met."
   ]
  },
  {
   "cell_type": "code",
   "execution_count": 4,
   "id": "38e2ef82",
   "metadata": {},
   "outputs": [
    {
     "name": "stdout",
     "output_type": "stream",
     "text": [
      "Starting collaboration for task: 'Write a story about a lost robot in a forest.'\n",
      "\n",
      "\n",
      "---------- Turn Ended: storyteller ----------\n",
      "\n",
      "Draft complete. Passing to editor for review.\n",
      "----------------------------------------\n",
      "\n",
      " Handoff Detected: Handoff to editor from storyteller detected.. Resuming collaboration...\n",
      "\n",
      "---------- Turn Ended: editor ----------\n",
      "\n",
      "STORY APPROVED\n",
      "----------------------------------------\n",
      "\n",
      "\n",
      "✅ Story approved! The collaboration is complete.\n"
     ]
    }
   ],
   "source": [
    "# Create the team with our agents and combined termination logic.\n",
    "writing_team = RoundRobinGroupChat(\n",
    "    [storyteller_agent, editor_agent],\n",
    "    termination_condition=termination_logic,\n",
    ")\n",
    "\n",
    "# Start the conversation with an initial task.\n",
    "task = \"Write a story about a lost robot in a forest.\"\n",
    "result = None\n",
    "\n",
    "print(f\"Starting collaboration for task: '{task}'\\n\")\n",
    "\n",
    "# Loop until the final approval is given.\n",
    "while True:\n",
    "    # Since we are in a Jupyter Notebook, we can use top-level await.\n",
    "    result = await writing_team.run(task=task)\n",
    "    \n",
    "    # Print the last message for context.\n",
    "    last_message = result.messages[-1]\n",
    "    print(f\"\\n---------- Turn Ended: {last_message.source} ----------\")\n",
    "    print(f\"\\n{last_message.content}\\n----------------------------------------\\n\")\n",
    "\n",
    "    # Check if the reason for stopping was the final approval.\n",
    "    if \"STORY APPROVED\" in result.stop_reason:\n",
    "        print(\"\\n✅ Story approved! The collaboration is complete.\")\n",
    "        break\n",
    "    else:\n",
    "        print(f\" Handoff Detected: {result.stop_reason}. Resuming collaboration...\")\n",
    "        # The next task is empty, allowing the next agent to simply respond to the history.\n",
    "        task = \"\""
   ]
  },
  {
   "cell_type": "markdown",
   "id": "09c43613",
   "metadata": {},
   "source": [
    "### 4. Analyzing the Execution Flow\n",
    "\n",
    "When you run the code above, you'll see a conversation unfold in turns:\n",
    "\n",
    "**Round 1: Storyteller to Editor**\n",
    "The `storyteller_agent` writes a draft and then calls its `transfer_to_editor` tool. The `handoff_to_editor` condition catches this, and the team pauses. The loop prints the `Handoff Detected` message and continues.\n",
    "\n",
    "**Round 2: Editor to Storyteller**\n",
    "The `editor_agent` reviews the draft, provides feedback (e.g., \"Good start, but make the robot's feelings more apparent.\"), and calls its `transfer_to_storyteller` tool. The `handoff_to_storyteller` condition catches this, and the team pauses again.\n",
    "\n",
    "**Further Rounds...**\n",
    "This back-and-forth continues as the storyteller revises the story based on feedback.\n",
    "\n",
    "**Final Round: Approval**\n",
    "Eventually, the `storyteller_agent` incorporates the feedback to the editor's satisfaction. The `editor_agent` then responds with \"STORY APPROVED\". The `TextMentionTermination` condition catches this, and the `break` statement in our loop stops the collaboration permanently.\n",
    "\n",
    "This example shows how you can use termination conditions to orchestrate complex, multi-turn workflows between multiple agents, pausing and resuming until a final goal is achieved."
   ]
  }
 ],
 "metadata": {
  "kernelspec": {
   "display_name": "Python 3 (ipykernel)",
   "language": "python",
   "name": "python3"
  },
  "language_info": {
   "codemirror_mode": {
    "name": "ipython",
    "version": 3
   },
   "file_extension": ".py",
   "mimetype": "text/x-python",
   "name": "python",
   "nbconvert_exporter": "python",
   "pygments_lexer": "ipython3",
   "version": "3.12.9"
  }
 },
 "nbformat": 4,
 "nbformat_minor": 5
}
