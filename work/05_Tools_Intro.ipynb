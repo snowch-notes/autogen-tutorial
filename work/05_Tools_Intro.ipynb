{
 "cells": [
  {
   "cell_type": "code",
   "execution_count": 1,
   "id": "28edaa44",
   "metadata": {},
   "outputs": [
    {
     "name": "stdout",
     "output_type": "stream",
     "text": [
      "Hello, Alice! Nice to meet you.\n"
     ]
    }
   ],
   "source": [
    "import asyncio\n",
    "from autogen_core.tools import FunctionTool\n",
    "from autogen_agentchat.agents import AssistantAgent\n",
    "from autogen_ext.models.openai import OpenAIChatCompletionClient\n",
    "\n",
    "# Define a tool using a Python function\n",
    "def greet(name: str) -> str:\n",
    "    \"\"\"Return a friendly greeting for the user.\"\"\"\n",
    "    return f\"Hello, {name}! Nice to meet you.\"\n",
    "\n",
    "# Wrap it into a FunctionTool\n",
    "greet_tool = FunctionTool(greet, description=\"Return a friendly greeting for a given name.\")\n",
    "\n",
    "# Async main function\n",
    "async def main():\n",
    "    # Create the OpenAI model client\n",
    "    model_client = OpenAIChatCompletionClient(model=\"gpt-4o\")\n",
    "\n",
    "    # Create the agent, passing the tool\n",
    "    agent = AssistantAgent(\n",
    "        name=\"greeter\",\n",
    "        model_client=model_client,\n",
    "        tools=[greet_tool]\n",
    "    )\n",
    "\n",
    "    # Ask the agent to use the tool\n",
    "    result = await agent.run(task=\"Greet someone named Alice.\")\n",
    "\n",
    "    # Print the result\n",
    "    print(result.messages[-1].content)\n",
    "\n",
    "    # Cleanup\n",
    "    await model_client.close()\n",
    "\n",
    "# Run it\n",
    "await main()"
   ]
  },
  {
   "cell_type": "code",
   "execution_count": null,
   "id": "79a392d2-6cc6-4be4-a961-3dd6c112c77b",
   "metadata": {},
   "outputs": [],
   "source": []
  }
 ],
 "metadata": {
  "kernelspec": {
   "display_name": "Python 3 (ipykernel)",
   "language": "python",
   "name": "python3"
  },
  "language_info": {
   "codemirror_mode": {
    "name": "ipython",
    "version": 3
   },
   "file_extension": ".py",
   "mimetype": "text/x-python",
   "name": "python",
   "nbconvert_exporter": "python",
   "pygments_lexer": "ipython3",
   "version": "3.12.9"
  }
 },
 "nbformat": 4,
 "nbformat_minor": 5
}
